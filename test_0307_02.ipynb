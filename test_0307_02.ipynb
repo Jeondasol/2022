{
  "nbformat": 4,
  "nbformat_minor": 0,
  "metadata": {
    "colab": {
      "name": "test_0307_02.ipynb",
      "provenance": [],
      "authorship_tag": "ABX9TyN1KrKTKrHkqDekzzrAvnD4",
      "include_colab_link": true
    },
    "kernelspec": {
      "name": "python3",
      "display_name": "Python 3"
    },
    "language_info": {
      "name": "python"
    }
  },
  "cells": [
    {
      "cell_type": "markdown",
      "metadata": {
        "id": "view-in-github",
        "colab_type": "text"
      },
      "source": [
        "<a href=\"https://colab.research.google.com/github/Jeondasol/2022/blob/main/test_0307_02.ipynb\" target=\"_parent\"><img src=\"https://colab.research.google.com/assets/colab-badge.svg\" alt=\"Open In Colab\"/></a>"
      ]
    },
    {
      "cell_type": "code",
      "execution_count": null,
      "metadata": {
        "id": "i3HJOeyBbO3S"
      },
      "outputs": [],
      "source": [
        "print(\"Hello, Python!!!!\")"
      ]
    },
    {
      "cell_type": "code",
      "source": [
        "print(\"환영합니다 파이썬!!\")"
      ],
      "metadata": {
        "colab": {
          "base_uri": "https://localhost:8080/"
        },
        "id": "xzQ2FbcGcvhd",
        "outputId": "75c4eada-90a5-4d77-ccb7-59e36527f594"
      },
      "execution_count": 2,
      "outputs": [
        {
          "output_type": "stream",
          "name": "stdout",
          "text": [
            "환영합니다 파이썬!!\n"
          ]
        }
      ]
    },
    {
      "cell_type": "code",
      "source": [
        "!pwd"
      ],
      "metadata": {
        "colab": {
          "base_uri": "https://localhost:8080/"
        },
        "id": "tExqZDKzeKzM",
        "outputId": "7e77930f-fbfb-4172-d17b-cffd7a6b4ed2"
      },
      "execution_count": 3,
      "outputs": [
        {
          "output_type": "stream",
          "name": "stdout",
          "text": [
            "/content\n"
          ]
        }
      ]
    }
  ]
}