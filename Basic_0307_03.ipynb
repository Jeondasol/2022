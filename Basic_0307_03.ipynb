{
  "nbformat": 4,
  "nbformat_minor": 0,
  "metadata": {
    "colab": {
      "name": "Basic_0307_03.ipynb",
      "provenance": [],
      "collapsed_sections": [],
      "authorship_tag": "ABX9TyO3YGf/fpBxJVtLIgo64HOk",
      "include_colab_link": true
    },
    "kernelspec": {
      "name": "python3",
      "display_name": "Python 3"
    },
    "language_info": {
      "name": "python"
    }
  },
  "cells": [
    {
      "cell_type": "markdown",
      "metadata": {
        "id": "view-in-github",
        "colab_type": "text"
      },
      "source": [
        "<a href=\"https://colab.research.google.com/github/Jeondasol/2022/blob/main/Basic_0307_03.ipynb\" target=\"_parent\"><img src=\"https://colab.research.google.com/assets/colab-badge.svg\" alt=\"Open In Colab\"/></a>"
      ]
    },
    {
      "cell_type": "markdown",
      "source": [
        "1. 연산자"
      ],
      "metadata": {
        "id": "ukRRJIXziCK4"
      }
    },
    {
      "cell_type": "markdown",
      "source": [
        "\n",
        "*   숫자 자료형 : 객체\n",
        "*   +(addition), * (multiplication), /(division),** (power), //(integer divison)\n",
        "\n"
      ],
      "metadata": {
        "id": "h5lZA6b3iFu8"
      }
    },
    {
      "cell_type": "code",
      "execution_count": 1,
      "metadata": {
        "colab": {
          "base_uri": "https://localhost:8080/"
        },
        "id": "W6H_xspqh-FG",
        "outputId": "3e42d484-b36d-4c76-ee71-45010fe93386"
      },
      "outputs": [
        {
          "output_type": "stream",
          "name": "stdout",
          "text": [
            "30\n"
          ]
        }
      ],
      "source": [
        "a = 10\n",
        "b = 20\n",
        "print(a+b)"
      ]
    },
    {
      "cell_type": "code",
      "source": [
        "a = 10\n",
        "b = 5\n",
        "print(a*b, a/b, a//b, a%b)"
      ],
      "metadata": {
        "colab": {
          "base_uri": "https://localhost:8080/"
        },
        "id": "4JMe4irZimCO",
        "outputId": "91b12421-602b-4b53-dc1e-9168637cebe3"
      },
      "execution_count": 2,
      "outputs": [
        {
          "output_type": "stream",
          "name": "stdout",
          "text": [
            "50 2.0 2 0\n"
          ]
        }
      ]
    },
    {
      "cell_type": "markdown",
      "source": [
        "2. 문자열\n",
        "*  문자열이란 문자, 단어 등으로 순서에 따라 구성된 문자들의 집합.\n",
        "*  문자열 : 객체\n",
        "\n",
        "\n",
        "\n",
        "\n"
      ],
      "metadata": {
        "id": "Fqk0P_40i3q-"
      }
    },
    {
      "cell_type": "code",
      "source": [
        "string1 = \"Hello World\"\n",
        "string2 = 'Python is fun'\n",
        "string3 = \"파이썬 프로그래밍\"\n",
        "string4 = '파이썬 프로그래밍'\n",
        "print(string1, string2, string3, string4)"
      ],
      "metadata": {
        "colab": {
          "base_uri": "https://localhost:8080/"
        },
        "id": "Y7fUuzegjnJW",
        "outputId": "02c53ee4-b456-4a34-8a11-6863743e665a"
      },
      "execution_count": 4,
      "outputs": [
        {
          "output_type": "stream",
          "name": "stdout",
          "text": [
            "Hello World Python is fun 파이썬 프로그래밍 파이썬 프로그래밍\n"
          ]
        }
      ]
    }
  ]
}